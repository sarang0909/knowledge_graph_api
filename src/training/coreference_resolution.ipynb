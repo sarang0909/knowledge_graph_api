{
 "cells": [
  {
   "cell_type": "code",
   "execution_count": 1,
   "metadata": {},
   "outputs": [],
   "source": [
    "#!pip install coreferee"
   ]
  },
  {
   "cell_type": "code",
   "execution_count": 2,
   "metadata": {},
   "outputs": [],
   "source": [
    "#!python -m spacy download en_core_web_lg"
   ]
  },
  {
   "cell_type": "code",
   "execution_count": 3,
   "metadata": {},
   "outputs": [],
   "source": [
    "#!python -m spacy download en_core_web_trf"
   ]
  },
  {
   "cell_type": "code",
   "execution_count": 4,
   "metadata": {},
   "outputs": [],
   "source": [
    "#!python -m coreferee install en"
   ]
  },
  {
   "cell_type": "code",
   "execution_count": 5,
   "metadata": {},
   "outputs": [
    {
     "data": {
      "text/plain": [
       "<coreferee.manager.CorefereeBroker at 0x14452e75040>"
      ]
     },
     "execution_count": 5,
     "metadata": {},
     "output_type": "execute_result"
    }
   ],
   "source": [
    "import coreferee, spacy\n",
    "\n",
    "nlp = spacy.load(\"en_core_web_trf\")\n",
    "nlp.add_pipe(\"coreferee\")"
   ]
  },
  {
   "cell_type": "code",
   "execution_count": 6,
   "metadata": {},
   "outputs": [],
   "source": [
    "def get_coref_resolution(text):\n",
    "    \"\"\"A method to return coreference resolved text\n",
    "\n",
    "    Args:\n",
    "        text (str): Input text\n",
    "\n",
    "    Returns:\n",
    "        output: resolved_text\n",
    "    \"\"\"\n",
    "\n",
    "    doc = nlp(text)\n",
    "    # Get token list\n",
    "    tok_list = list(token.text_with_ws for token in doc)\n",
    "    for index, _ in enumerate(tok_list):\n",
    "        # Check resolution of each token\n",
    "        if doc._.coref_chains.resolve(doc[index]):\n",
    "            new_token = \"\"\n",
    "            # If it is not None,then replcae token with resolved/original entity\n",
    "            for resolved_token in doc._.coref_chains.resolve(doc[index]):\n",
    "                new_token = new_token + resolved_token.text + \" \"\n",
    "            tok_list[index] = new_token\n",
    "    resolved_text = \"\".join(tok_list)\n",
    "    return resolved_text"
   ]
  },
  {
   "cell_type": "code",
   "execution_count": 8,
   "metadata": {},
   "outputs": [],
   "source": [
    "text = 'Tesla CEO Elon Musk sold $6.9 billion worth of shares , \\\n",
    "he said that the funds could be used to finance Twitter if he loses a legal battle with it.\\\n",
    "Tesla factory in Austin was shut for two days, Laila Shahrokhshahi reports.\\\n",
    "Tesla Inc has hired former Hewlett Packard lawyer Derek Windham to helm its legal team.'"
   ]
  },
  {
   "cell_type": "code",
   "execution_count": 9,
   "metadata": {},
   "outputs": [
    {
     "name": "stderr",
     "output_type": "stream",
     "text": [
      "c:\\Users\\metes\\Anaconda3\\envs\\knowledge_graph_api\\lib\\site-packages\\torch\\amp\\autocast_mode.py:198: UserWarning: User provided device_type of 'cuda', but CUDA is not available. Disabling\n",
      "  warnings.warn('User provided device_type of \\'cuda\\', but CUDA is not available. Disabling')\n"
     ]
    },
    {
     "data": {
      "text/plain": [
       "'Tesla CEO Elon Musk sold $6.9 billion worth of shares , Musk said that the funds could be used to finance Twitter if Musk loses a legal battle with Twitter .Tesla factory in Austin was shut for two days, Laila Shahrokhshahi reports.Tesla Inc has hired former Hewlett Packard lawyer Derek Windham to helm Inc legal team.'"
      ]
     },
     "execution_count": 9,
     "metadata": {},
     "output_type": "execute_result"
    }
   ],
   "source": [
    "get_coref_resolution(text)"
   ]
  },
  {
   "cell_type": "code",
   "execution_count": null,
   "metadata": {},
   "outputs": [],
   "source": []
  }
 ],
 "metadata": {
  "kernelspec": {
   "display_name": "Python 3.8.13 ('knowledge_graph_api')",
   "language": "python",
   "name": "python3"
  },
  "language_info": {
   "codemirror_mode": {
    "name": "ipython",
    "version": 3
   },
   "file_extension": ".py",
   "mimetype": "text/x-python",
   "name": "python",
   "nbconvert_exporter": "python",
   "pygments_lexer": "ipython3",
   "version": "3.8.13"
  },
  "orig_nbformat": 4,
  "vscode": {
   "interpreter": {
    "hash": "5073825fc9a3266e272129c31da2dad919171f9ff7a16664cdbba20d74c011f5"
   }
  }
 },
 "nbformat": 4,
 "nbformat_minor": 2
}
