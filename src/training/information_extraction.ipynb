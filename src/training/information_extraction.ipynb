{
 "cells": [
  {
   "cell_type": "code",
   "execution_count": null,
   "metadata": {},
   "outputs": [],
   "source": [
    "### Information Extraction using rebel"
   ]
  },
  {
   "cell_type": "code",
   "execution_count": 1,
   "metadata": {},
   "outputs": [],
   "source": [
    "from openie import StanfordOpenIE\n",
    "import csv \n",
    "import spacy\n",
    "\n"
   ]
  },
  {
   "cell_type": "code",
   "execution_count": 2,
   "metadata": {},
   "outputs": [],
   "source": [
    "TEXT = 'Tesla CEO Elon Musk sold $6.9 billion worth of shares , \\\n",
    "he said that the funds could be used to finance Twitter if he loses a legal battle with it.\\\n",
    "Tesla factory in Austin was shut for two days, Laila Shahrokhshahi reports.\\\n",
    "Tesla Inc has hired former Hewlett Packard lawyer Derek Windham to helm its legal team.'"
   ]
  },
  {
   "cell_type": "code",
   "execution_count": 5,
   "metadata": {},
   "outputs": [],
   "source": [
    "import requests\n",
    "#Enitity Linking/wikification\n",
    "def perform_wikification(item):\n",
    "  try:\n",
    "    url = f\"https://www.wikidata.org/w/api.php?action=wbsearchentities&search={item}&language=en&format=json\"\n",
    "    data = requests.get(url).json()\n",
    "     \n",
    "    return data['search'][0]['id']\n",
    "  except:\n",
    "    return \"no-data\""
   ]
  },
  {
   "cell_type": "code",
   "execution_count": 6,
   "metadata": {},
   "outputs": [],
   "source": [
    "custom_ner_model = spacy.load(\"../models/spacy_model\")"
   ]
  },
  {
   "cell_type": "code",
   "execution_count": 7,
   "metadata": {},
   "outputs": [
    {
     "name": "stdout",
     "output_type": "stream",
     "text": [
      "Tesla CUSTOM_ORG\n",
      "CEO CUSTOM_ROLE\n",
      "Elon Musk CUSTOM_PERSON\n",
      "Twitter CUSTOM_ORG\n",
      "Tesla CUSTOM_ORG\n",
      "Austin CUSTOM_PLACE\n",
      "Laila Shahrokhshahi CUSTOM_PERSON\n",
      "Tesla Inc CUSTOM_ORG\n",
      "Hewlett CUSTOM_ORG\n",
      "Packard lawyer CUSTOM_ROLE\n",
      "Derek Windham CUSTOM_PERSON\n"
     ]
    }
   ],
   "source": [
    "\n",
    "doc = custom_ner_model(TEXT)\n",
    "for ent in doc.ents:\n",
    "    print(ent.text,ent.label_)"
   ]
  },
  {
   "cell_type": "code",
   "execution_count": 8,
   "metadata": {},
   "outputs": [],
   "source": [
    "# Function to parse the generated text and extract the triplets from babel\n",
    "#https://github.com/Babelscape/rebel\n",
    "\n",
    "def extract_triplets(text):\n",
    "    triplets = []\n",
    "    relation, subject, relation, object_ = '', '', '', ''\n",
    "    text = text.strip()\n",
    "    current = 'x'\n",
    "    for token in text.replace(\"<s>\", \"\").replace(\"<pad>\", \"\").replace(\"</s>\", \"\").split():\n",
    "        if token == \"<triplet>\":\n",
    "            current = 't'\n",
    "            if relation != '':\n",
    "                triplets.append({'subject': subject.strip(), 'relation': relation.strip(),'object': object_.strip()})\n",
    "                relation = ''\n",
    "            subject = ''\n",
    "        elif token == \"<subj>\":\n",
    "            current = 's'\n",
    "            if relation != '':\n",
    "                triplets.append({'subject': subject.strip(), 'relation': relation.strip(),'object': object_.strip()})\n",
    "            object_ = ''\n",
    "        elif token == \"<obj>\":\n",
    "            current = 'o'\n",
    "            relation = ''\n",
    "        else:\n",
    "            if current == 't':\n",
    "                subject += ' ' + token\n",
    "            elif current == 's':\n",
    "                object_ += ' ' + token\n",
    "            elif current == 'o':\n",
    "                relation += ' ' + token\n",
    "    if subject != '' and relation != '' and object_ != '':\n",
    "        triplets.append({'subject': subject.strip(), 'relation': relation.strip(),'object': object_.strip()})\n",
    "    return triplets"
   ]
  },
  {
   "cell_type": "code",
   "execution_count": 9,
   "metadata": {},
   "outputs": [],
   "source": [
    "from transformers import pipeline\n",
    "\n",
    "triplet_extractor = pipeline('text2text-generation', model='Babelscape/rebel-large', tokenizer='Babelscape/rebel-large',device=-1)"
   ]
  },
  {
   "cell_type": "code",
   "execution_count": 10,
   "metadata": {},
   "outputs": [],
   "source": [
    "import pandas as pd"
   ]
  },
  {
   "cell_type": "code",
   "execution_count": 11,
   "metadata": {},
   "outputs": [],
   "source": [
    "custom_ner_model = spacy.load(\"../models/spacy_model\")\n",
    "\n",
    "def triple_generation(text,only_custom_entities = False):\n",
    "    df = pd.DataFrame(columns = [\"subject\", \"object\", \"relation\"])\n",
    "    knowledge_base = dict()\n",
    "    nlp = spacy.load(\"en_core_web_lg\")\n",
    "    doc = nlp(text)\n",
    "    for sent in doc.sents:\n",
    "        # We need to use the tokenizer manually since we need special tokens.\n",
    "        extracted_text = triplet_extractor.tokenizer.batch_decode([triplet_extractor(sent.text, return_tensors=True, return_text=False)[0][\"generated_token_ids\"]])\n",
    "        extracted_triplets = extract_triplets(extracted_text[0])\n",
    "        for triple in extracted_triplets:\n",
    "            subject = triple['subject']\n",
    "            obj = triple['object']\n",
    "            #If we need extract relaions of only custom entities\n",
    "            if only_custom_entities:\n",
    "                doc = custom_ner_model(text)\n",
    "                custom_entities  = [i.text for i in doc.ents]\n",
    "                #If either subject or object not presentin custom entities list then set them as None,ignore them\n",
    "                if not any(x in [subject,obj] for x in custom_entities):\n",
    "                    subject = None\n",
    "                    obj = None\n",
    "                \n",
    "            if None not in [subject,obj]:\n",
    "                #Get wiki id and add to existing knowledge base\n",
    "                #If it is already present then use existing id fromknowledge base.\n",
    "                #This logic will avoid duplication and use first occurance of entity as a reference\n",
    "                entity_wiki_id = perform_wikification(subject) \n",
    "                if entity_wiki_id in knowledge_base:\n",
    "                    subject = knowledge_base[entity_wiki_id]\n",
    "                else:\n",
    "                    knowledge_base[entity_wiki_id] = subject\n",
    "\n",
    "                \n",
    "                entity_wiki_id = perform_wikification(obj) \n",
    "                if entity_wiki_id in knowledge_base:\n",
    "                    obj = knowledge_base[entity_wiki_id]\n",
    "                else:\n",
    "                    knowledge_base[entity_wiki_id] = obj\n",
    "                            \n",
    "                df = df.append({'subject' : subject, 'object' : obj,'relation' :triple['relation']} , \n",
    "                        ignore_index=True)\n",
    "    \n",
    "    return df "
   ]
  },
  {
   "cell_type": "code",
   "execution_count": 12,
   "metadata": {},
   "outputs": [
    {
     "name": "stderr",
     "output_type": "stream",
     "text": [
      "C:\\Users\\metes\\AppData\\Local\\Temp\\ipykernel_32860\\33296474.py:41: FutureWarning: The frame.append method is deprecated and will be removed from pandas in a future version. Use pandas.concat instead.\n",
      "  df = df.append({'subject' : subject, 'object' : obj,'relation' :triple['relation']} ,\n",
      "C:\\Users\\metes\\AppData\\Local\\Temp\\ipykernel_32860\\33296474.py:41: FutureWarning: The frame.append method is deprecated and will be removed from pandas in a future version. Use pandas.concat instead.\n",
      "  df = df.append({'subject' : subject, 'object' : obj,'relation' :triple['relation']} ,\n",
      "C:\\Users\\metes\\AppData\\Local\\Temp\\ipykernel_32860\\33296474.py:41: FutureWarning: The frame.append method is deprecated and will be removed from pandas in a future version. Use pandas.concat instead.\n",
      "  df = df.append({'subject' : subject, 'object' : obj,'relation' :triple['relation']} ,\n"
     ]
    },
    {
     "name": "stdout",
     "output_type": "stream",
     "text": [
      "         subject           object               relation\n",
      "0      Elon Musk          Twitter               owner of\n",
      "1        Twitter        Elon Musk               owned by\n",
      "2          Tesla           Austin  headquarters location\n",
      "3  Derek Windham  Hewlett Packard               employer\n"
     ]
    },
    {
     "name": "stderr",
     "output_type": "stream",
     "text": [
      "C:\\Users\\metes\\AppData\\Local\\Temp\\ipykernel_32860\\33296474.py:41: FutureWarning: The frame.append method is deprecated and will be removed from pandas in a future version. Use pandas.concat instead.\n",
      "  df = df.append({'subject' : subject, 'object' : obj,'relation' :triple['relation']} ,\n"
     ]
    }
   ],
   "source": [
    "print(triple_generation (TEXT))"
   ]
  },
  {
   "cell_type": "code",
   "execution_count": 13,
   "metadata": {},
   "outputs": [],
   "source": [
    "import networkx as nx\n",
    "import matplotlib.pyplot as plt\n",
    "\n",
    "\n",
    "def get_graph_plot(df):\n",
    "    G = nx.from_pandas_edgelist(\n",
    "        df, \"subject\", \"object\", edge_attr=True, create_using=nx.MultiDiGraph()\n",
    "    )\n",
    "    edge_labels = dict(\n",
    "        [((x, y), z) for x, y, z in zip(df.subject, df.object, df.relation)]\n",
    "    )\n",
    "\n",
    "    # plt.figure(figsize=(10, 10))\n",
    "\n",
    "    pos = nx.spring_layout(G)\n",
    "    nx.draw(\n",
    "        G,\n",
    "        with_labels=True,\n",
    "        node_color=\"skyblue\",\n",
    "        edge_cmap=plt.cm.Blues,\n",
    "        pos=pos,\n",
    "    )\n",
    "    nx.draw_networkx_edge_labels(G, pos=pos, edge_labels=edge_labels)\n",
    "    return plt"
   ]
  },
  {
   "cell_type": "code",
   "execution_count": 14,
   "metadata": {},
   "outputs": [
    {
     "name": "stderr",
     "output_type": "stream",
     "text": [
      "C:\\Users\\metes\\AppData\\Local\\Temp\\ipykernel_32860\\33296474.py:41: FutureWarning: The frame.append method is deprecated and will be removed from pandas in a future version. Use pandas.concat instead.\n",
      "  df = df.append({'subject' : subject, 'object' : obj,'relation' :triple['relation']} ,\n",
      "C:\\Users\\metes\\AppData\\Local\\Temp\\ipykernel_32860\\33296474.py:41: FutureWarning: The frame.append method is deprecated and will be removed from pandas in a future version. Use pandas.concat instead.\n",
      "  df = df.append({'subject' : subject, 'object' : obj,'relation' :triple['relation']} ,\n",
      "C:\\Users\\metes\\AppData\\Local\\Temp\\ipykernel_32860\\33296474.py:41: FutureWarning: The frame.append method is deprecated and will be removed from pandas in a future version. Use pandas.concat instead.\n",
      "  df = df.append({'subject' : subject, 'object' : obj,'relation' :triple['relation']} ,\n",
      "C:\\Users\\metes\\AppData\\Local\\Temp\\ipykernel_32860\\33296474.py:41: FutureWarning: The frame.append method is deprecated and will be removed from pandas in a future version. Use pandas.concat instead.\n",
      "  df = df.append({'subject' : subject, 'object' : obj,'relation' :triple['relation']} ,\n"
     ]
    },
    {
     "data": {
      "image/png": "[encoded data removed]",
      "text/plain": [
       "<Figure size 640x480 with 1 Axes>"
      ]
     },
     "metadata": {},
     "output_type": "display_data"
    }
   ],
   "source": [
    "get_graph_plot(triple_generation (TEXT)).show()"
   ]
  },
  {
   "cell_type": "code",
   "execution_count": null,
   "metadata": {},
   "outputs": [],
   "source": [
    "### Information Extraction using Stanford Openie"
   ]
  },
  {
   "cell_type": "code",
   "execution_count": 66,
   "metadata": {},
   "outputs": [
    {
     "name": "stderr",
     "output_type": "stream",
     "text": [
      "C:\\Users\\metes\\AppData\\Roaming\\Python\\Python38\\site-packages\\spacy\\util.py:837: UserWarning: [W095] Model 'en_pipeline' (0.0.0) was trained with spaCy v3.4 and may not be 100% compatible with the current version (3.3.1). If you see errors or degraded performance, download a newer compatible model or retrain your custom model with the current spaCy version. For more details and available updates, run: python -m spacy validate\n",
      "  warnings.warn(warn_msg)\n"
     ]
    }
   ],
   "source": [
    "custom_ner_model = spacy.load(\"../models/spacy_model\")\n",
    "client = StanfordOpenIE()\n",
    "def triple_generation_stanford(text,only_custom_entities = False):\n",
    "    df = pd.DataFrame(columns = [\"subject\", \"object\", \"relation\"])\n",
    "    knowledge_base = dict()\n",
    "    #Iterate through sentences\n",
    "    nlp = spacy.load(\"en_core_web_lg\")\n",
    "    doc = nlp(text)\n",
    "    for sent in doc.sents:\n",
    "        for triple in client.annotate(sent.text):\n",
    "            subject = triple['subject']\n",
    "            obj = triple['object']\n",
    "            #If we need extract relaions of only custom entities\n",
    "            if only_custom_entities:\n",
    "                doc = custom_ner_model(text)\n",
    "                custom_entities  = [i.text for i in doc.ents]\n",
    "                #If either subject or object not presentin custom entities list then set them as None,ignore them\n",
    "                if not any(x in [subject,obj] for x in custom_entities):\n",
    "                    subject = None\n",
    "                    obj = None\n",
    "                \n",
    "            if None not in [subject,obj]:\n",
    "                #Get wiki id and add to existing knowledge base\n",
    "                #If it is already present then use existing id fromknowledge base.\n",
    "                #This logic will avoid duplication and use first occurance of entity as a reference\n",
    "                entity_wiki_id = perform_wikification(subject) \n",
    "                if entity_wiki_id in knowledge_base:\n",
    "                    subject = knowledge_base[entity_wiki_id]\n",
    "                else:\n",
    "                    knowledge_base[entity_wiki_id] = subject\n",
    "\n",
    "                \n",
    "                entity_wiki_id = perform_wikification(obj) \n",
    "                if entity_wiki_id in knowledge_base:\n",
    "                    obj = knowledge_base[entity_wiki_id]\n",
    "                else:\n",
    "                    knowledge_base[entity_wiki_id] = obj\n",
    "                            \n",
    "                df = df.append({'subject' : subject, 'object' : obj,'relation' :triple['relation']} , \n",
    "                        ignore_index=True)\n",
    "    \n",
    "    return df "
   ]
  },
  {
   "cell_type": "code",
   "execution_count": 68,
   "metadata": {},
   "outputs": [],
   "source": [
    "#print(triple_generation_stanford (\"Barack Obama was born in Hawaii.\"))"
   ]
  },
  {
   "cell_type": "code",
   "execution_count": null,
   "metadata": {},
   "outputs": [],
   "source": []
  },
  {
   "cell_type": "code",
   "execution_count": null,
   "metadata": {},
   "outputs": [],
   "source": []
  }
 ],
 "metadata": {
  "kernelspec": {
   "display_name": "Python 3.8.13 ('knowledge_graph_api')",
   "language": "python",
   "name": "python3"
  },
  "language_info": {
   "codemirror_mode": {
    "name": "ipython",
    "version": 3
   },
   "file_extension": ".py",
   "mimetype": "text/x-python",
   "name": "python",
   "nbconvert_exporter": "python",
   "pygments_lexer": "ipython3",
   "version": "3.8.13"
  },
  "orig_nbformat": 4,
  "vscode": {
   "interpreter": {
    "hash": "d1142111bcafb0b036a2a07b695d401cd57e9f977c49f7465bb13d700e613e2d"
   }
  }
 },
 "nbformat": 4,
 "nbformat_minor": 2
}
